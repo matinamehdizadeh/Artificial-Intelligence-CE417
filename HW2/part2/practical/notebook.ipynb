{
 "cells": [
  {
   "cell_type": "markdown",
   "metadata": {},
   "source": [
    "<div style=\"direction:rtl;line-height:300%;\">\n",
    "\t<font face=\"XB Zar\" size=5>\n",
    "\t\t<div align=center>\n",
    "\t\t\t<font face=\"IranNastaliq\" size=30>\n",
    "\t\t\t\t<p></p>\n",
    "\t\t\t\t<p></p>\n",
    "به نام خدا\n",
    "\t\t\t\t<p></p>\n",
    "\t\t\t</font>\n",
    "\t\t\t<font color=#FF7500>\n",
    "دانشگاه صنعتی شریف - دانشکده مهندسی کامپیوتر\n",
    "            </font>\n",
    "\t\t\t<p></p>\n",
    "\t\t\t<font color=blue>\n",
    "هوش مصنوعی\n",
    "            </font>\n",
    "\t\t\t<br />\n",
    "\t\t\t<br />\n",
    "پاییز ۱۳۹۹\n",
    "\t\t</div>\n",
    "\t\t<div align=center>\n",
    "\t\t    <font color=#FF7500 size=6>\n",
    "\t\t\t    <br />\n",
    "تمرین دوم، بخش دوم\n",
    "                سوال عملی\n",
    "            \t<br/>\n",
    "\t\t\t</font>\n",
    "        </div>\n",
    "        <br/>\n",
    "        <div align=center>\n",
    "            نام و نام خانوادگی:\n",
    "            <br/>\n",
    "            شماره دانشجویی:\n",
    "        </div>\n",
    "\t</font>\n",
    "    <hr/>\n",
    "</div>"
   ]
  },
  {
   "cell_type": "markdown",
   "metadata": {},
   "source": [
    "<div style=\"direction:rtl;line-height:300%;\">\n",
    "    <font face=\"XB Zar\" size=5>\n",
    "\t\tبرای این تمرین تعدادی تابع و کد داده شده، که با کامل کردن توابع باید پیاد‌سازی را انجام دهید. ابتدا لایبرری‌های لازم را وارد می‌کنیم. \n",
    "\t</font>\n",
    "</div>"
   ]
  },
  {
   "cell_type": "code",
   "execution_count": 1,
   "metadata": {},
   "outputs": [],
   "source": [
    "import numpy as np\n",
    "import cv2\n",
    "from matplotlib import pyplot as plt"
   ]
  },
  {
   "cell_type": "markdown",
   "metadata": {},
   "source": [
    "<div style=\"direction:rtl;line-height:300%;\">\n",
    "    <font face=\"XB Zar\" size=5>\n",
    "\t\tاکنون تصاویر را خوانده و نمایش می‌دهیم. تصویر پایین سمت راست عکس اصلی بوده و تصویر سمت چپ عکس پس از عبور از فیلتر است. تصویر ورودی یک عکس $128\\times 128$ و تصویر خروجی یک عکس $126\\times 126$ بوده. \n",
    "\t</font>\n",
    "</div>"
   ]
  },
  {
   "cell_type": "code",
   "execution_count": 2,
   "metadata": {},
   "outputs": [
    {
     "ename": "NameError",
     "evalue": "name 'cv2' is not defined",
     "output_type": "error",
     "traceback": [
      "\u001b[1;31m---------------------------------------------------------------------------\u001b[0m",
      "\u001b[1;31mNameError\u001b[0m                                 Traceback (most recent call last)",
      "\u001b[1;32m<ipython-input-2-bb84e1865f2e>\u001b[0m in \u001b[0;36m<module>\u001b[1;34m\u001b[0m\n\u001b[1;32m----> 1\u001b[1;33m \u001b[0mimg_src\u001b[0m \u001b[1;33m=\u001b[0m \u001b[0mcv2\u001b[0m\u001b[1;33m.\u001b[0m\u001b[0mimread\u001b[0m\u001b[1;33m(\u001b[0m\u001b[1;34m'data/image.png'\u001b[0m\u001b[1;33m,\u001b[0m \u001b[0mcv2\u001b[0m\u001b[1;33m.\u001b[0m\u001b[0mIMREAD_GRAYSCALE\u001b[0m\u001b[1;33m)\u001b[0m\u001b[1;33m\u001b[0m\u001b[1;33m\u001b[0m\u001b[0m\n\u001b[0m\u001b[0;32m      2\u001b[0m \u001b[0mimg_dst\u001b[0m \u001b[1;33m=\u001b[0m \u001b[0mcv2\u001b[0m\u001b[1;33m.\u001b[0m\u001b[0mimread\u001b[0m\u001b[1;33m(\u001b[0m\u001b[1;34m'data/result.png'\u001b[0m\u001b[1;33m,\u001b[0m \u001b[0mcv2\u001b[0m\u001b[1;33m.\u001b[0m\u001b[0mIMREAD_GRAYSCALE\u001b[0m\u001b[1;33m)\u001b[0m\u001b[1;33m\u001b[0m\u001b[1;33m\u001b[0m\u001b[0m\n\u001b[0;32m      3\u001b[0m \u001b[0m_\u001b[0m\u001b[1;33m,\u001b[0m \u001b[0maxarr\u001b[0m \u001b[1;33m=\u001b[0m \u001b[0mplt\u001b[0m\u001b[1;33m.\u001b[0m\u001b[0msubplots\u001b[0m\u001b[1;33m(\u001b[0m\u001b[1;36m1\u001b[0m\u001b[1;33m,\u001b[0m\u001b[1;36m2\u001b[0m\u001b[1;33m)\u001b[0m\u001b[1;33m\u001b[0m\u001b[1;33m\u001b[0m\u001b[0m\n\u001b[0;32m      4\u001b[0m \u001b[0maxarr\u001b[0m\u001b[1;33m[\u001b[0m\u001b[1;36m0\u001b[0m\u001b[1;33m]\u001b[0m\u001b[1;33m.\u001b[0m\u001b[0mimshow\u001b[0m\u001b[1;33m(\u001b[0m\u001b[0mimg_src\u001b[0m\u001b[1;33m,\u001b[0m \u001b[0mcmap\u001b[0m\u001b[1;33m=\u001b[0m\u001b[1;34m'gray'\u001b[0m\u001b[1;33m)\u001b[0m\u001b[1;33m\u001b[0m\u001b[1;33m\u001b[0m\u001b[0m\n\u001b[0;32m      5\u001b[0m \u001b[0maxarr\u001b[0m\u001b[1;33m[\u001b[0m\u001b[1;36m1\u001b[0m\u001b[1;33m]\u001b[0m\u001b[1;33m.\u001b[0m\u001b[0mimshow\u001b[0m\u001b[1;33m(\u001b[0m\u001b[0mimg_dst\u001b[0m\u001b[1;33m,\u001b[0m \u001b[0mcmap\u001b[0m\u001b[1;33m=\u001b[0m\u001b[1;34m'gray'\u001b[0m\u001b[1;33m)\u001b[0m\u001b[1;33m\u001b[0m\u001b[1;33m\u001b[0m\u001b[0m\n",
      "\u001b[1;31mNameError\u001b[0m: name 'cv2' is not defined"
     ]
    }
   ],
   "source": [
    "img_src = cv2.imread('data/image.png', cv2.IMREAD_GRAYSCALE)\n",
    "img_dst = cv2.imread('data/result.png', cv2.IMREAD_GRAYSCALE)\n",
    "_, axarr = plt.subplots(1,2)\n",
    "axarr[0].imshow(img_src, cmap='gray')\n",
    "axarr[1].imshow(img_dst, cmap='gray')\n",
    "plt.plot()"
   ]
  },
  {
   "cell_type": "markdown",
   "metadata": {},
   "source": [
    "<div style=\"direction:rtl;line-height:300%;\">\n",
    "    <font face=\"XB Zar\" size=5>\n",
    "        در این بخش، شما باید تابع preprocess را پیاده‌سازی کنید. این تابع به عنوان ورودی دو ماتریس بدست آمده در کد بالا را می‌گیرد. این تابع به کمک ماتریس اول یک ماتریس $126^2 \\times 9$  (ماتریس $A$) ایجاد کرده و ماتریس تصویر دوم را به یک بردار $126^2$ (بردار $y$) تبدیل می‌کند و به عنوان خروجی می‌دهد. این ماتریس و بردار باید به‌گونه‌ای باشند که اگر وزن‌های فیلتر را به صورت بردار $w$ در نظر بگیریم، آنگاه داریم: $Aw = y$ \n",
    "\t</font>\n",
    "</div>"
   ]
  },
  {
   "cell_type": "code",
   "execution_count": 11,
   "metadata": {},
   "outputs": [],
   "source": [
    "def preprocess(img_src, img_dst):\n",
    "    \n",
    "    A = np.zeros((126**2,9))\n",
    "    y = np.zeros(126**2)\n",
    "    \n",
    "     for i in range(126):\n",
    "        for j in range(126):\n",
    "            A[126 * i + j][0:3] = img_src[i][j:j + 3]\n",
    "            A[126 * i + j][3:6] = img_src[i + 1][j:j + 3]\n",
    "            A[126 * i + j][6:9] = img_src[i + 2][j:j + 3]\n",
    "            y[126 * i + j] = img_dst[i][j]\n",
    "    \n",
    "    return A, y"
   ]
  },
  {
   "cell_type": "markdown",
   "metadata": {},
   "source": [
    "<div style=\"direction:rtl;line-height:300%;\">\n",
    "    <font face=\"XB Zar\" size=5>\n",
    "        اکنون در تابع زیر باید الگوریتم Gradient Decent را برای تابع $||Aw-y||^2_{2}$ پیاده سازی کنید.\t</font>\n",
    "</div>"
   ]
  },
  {
   "cell_type": "code",
   "execution_count": 15,
   "metadata": {},
   "outputs": [],
   "source": [
    "def GD(A, y):\n",
    "    \n",
    "    w = [0.1, 0.1, 0.1, 0.1, 0.1, 0.1, 0.1, 0.1, 0.1]\n",
    "    error = np.zeros(126 ** 2)\n",
    "    gd = [float] * 9\n",
    "    alpha = 0.00000000049\n",
    "    for j in range(9000):\n",
    "        for i in range(126**2):\n",
    "            error[i] = np.dot(a[i], w) - b[i]\n",
    "            sumT += error[i] ** 2\n",
    "        gd = np.matmul(a.transpose(), error)\n",
    "        alphaGD = 2*alpha * gd\n",
    "        w = np.subtract(w, alphaGD)\n",
    "        \n",
    "    return w"
   ]
  },
  {
   "cell_type": "markdown",
   "metadata": {},
   "source": [
    "<div style=\"direction:rtl;line-height:300%;\">\n",
    "    <font face=\"XB Zar\" size=5>\n",
    "        توابع گفته شده را باید به‌گونه‌ای پیاده سازی کنید که با اجرای کد ماتریس وزن‌های فیلتر بدست آید.\n",
    "\t</font>\n",
    "</div>"
   ]
  },
  {
   "cell_type": "code",
   "execution_count": null,
   "metadata": {},
   "outputs": [],
   "source": [
    "A, y = preprocess(img_src, img_dst)\n",
    "w = GD(A, y)\n",
    "w = w.reshape((3,3))\n",
    "print(w)"
   ]
  }
 ],
 "metadata": {
  "kernelspec": {
   "display_name": "Python 3",
   "language": "python",
   "name": "python3"
  },
  "language_info": {
   "codemirror_mode": {
    "name": "ipython",
    "version": 3
   },
   "file_extension": ".py",
   "mimetype": "text/x-python",
   "name": "python",
   "nbconvert_exporter": "python",
   "pygments_lexer": "ipython3",
   "version": "3.7.4"
  }
 },
 "nbformat": 4,
 "nbformat_minor": 4
}
